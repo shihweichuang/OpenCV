{
 "cells": [
  {
   "cell_type": "markdown",
   "metadata": {},
   "source": [
    "## 練習 2-1 解答\n",
    "> * 將 lenaColor.png 彩色讀入\n",
    "> * 將 b, g, r 分拆成三個 numpy 2 維的 array\n",
    "\n",
    "> * 將 b array 中的 [100:400, 150:415] 區塊變成白色\n",
    "> * 將 g array 中的 [100:400, 150:415] 區塊變成白色*1/2\n",
    "> * 將 r array 中的 [100:400, 150:415] 區塊變成黑色\n",
    "\n",
    "> * 再將這三個 array 依 b, g, r 的順序黏回去組成一 3 維的 array 並顯示出來\n",
    "> * 再將這三個 array 依 g, r, b 的順序黏回去組成一 3 維的 array 並顯示出來\n",
    "> * 再將這三個 array 依 b, b, b 的順序黏回去組成一 3 維的 array 並顯示出來"
   ]
  },
  {
   "cell_type": "code",
   "execution_count": 1,
   "metadata": {
    "tags": []
   },
   "outputs": [],
   "source": [
    "import cv2\n",
    "\n",
    "img = cv2.imread('../image/lenaColor.png')\n",
    "\n",
    "b, g, r = cv2.split(img)  \n",
    "\n",
    "b[100:400, 150:415]=255\n",
    "g[100:400, 150:415]=127\n",
    "r[100:400, 150:415]=0\n",
    "\n",
    "img_bgr =cv2.merge([b,g,r])\n",
    "cv2.imshow('Image Show bgr', img_bgr)\n",
    "\n",
    "img_grb =cv2.merge([g,r,b])\n",
    "cv2.imshow('Image Show grb', img_grb)\n",
    "\n",
    "img_bbb =cv2.merge([b,b,b])\n",
    "cv2.imshow('Image Show bbb', img_bbb)\n",
    "\n",
    "cv2.waitKey(0)\n",
    "cv2.destroyAllWindows()"
   ]
  },
  {
   "cell_type": "markdown",
   "metadata": {},
   "source": [
    "---\n",
    "## 練習 2-2 解答\n",
    "在一個 $512*512*3$ 的黑色畫布上, 利用畫圓的函數 cv2.circle, for loop 和 亂數\n",
    ">* 以畫布中心為圓心, 畫出 12 等距同心圓\n",
    ">* 12 同心圓RGB顏色隨機變換, 每次不一樣<br>\n",
    "><img src=\"..\\image\\circle2-1.jpg\"  style='width:40%'>"
   ]
  },
  {
   "cell_type": "code",
   "execution_count": 4,
   "metadata": {
    "tags": []
   },
   "outputs": [
    {
     "data": {
      "text/plain": [
       "-1"
      ]
     },
     "execution_count": 4,
     "metadata": {},
     "output_type": "execute_result"
    }
   ],
   "source": [
    "import numpy as np\n",
    "import cv2\n",
    "import random\n",
    "\n",
    "gc = np.zeros((512, 512, 3), dtype='uint8')\n",
    "\n",
    "count=12\n",
    "for i in range(1,count+1):\n",
    "    b=random.randint(0, 256)\n",
    "    g=random.randint(0, 256)\n",
    "    r=random.randint(0, 256)\n",
    "    cv2.circle(gc, (256, 256), i*20, (b, g, r), 5)\n",
    "\n",
    "cv2.imshow('draw', gc) \n",
    "# cv2.imwrite('./image/circle2-1.jpg', gc)\n",
    "cv2.waitKey(0)\n",
    "cv2.destroyAllWindows()\n",
    "cv2.waitKey(1)"
   ]
  },
  {
   "cell_type": "markdown",
   "metadata": {},
   "source": [
    "---\n",
    "## 練習 2-3\n",
    "在一個 $512*512*3$ 的黑色畫布上, 利用畫橢圓的函數 cv2.ellipse 和 for loop\n",
    ">* 以畫布中心為圓心, 畫出 12 同心等分 360 度橢圓, 顏色一樣<br>\n",
    "><img src=\"..\\image\\ellipse2-2.jpg\"  style='width:40%'>"
   ]
  },
  {
   "cell_type": "code",
   "execution_count": 8,
   "metadata": {
    "tags": []
   },
   "outputs": [
    {
     "data": {
      "text/plain": [
       "-1"
      ]
     },
     "execution_count": 8,
     "metadata": {},
     "output_type": "execute_result"
    }
   ],
   "source": [
    "import numpy as np\n",
    "import cv2\n",
    "import random\n",
    "\n",
    "gc = np.zeros((512, 512, 3), dtype='uint8')\n",
    "\n",
    "unit = 25\n",
    "for i in range(unit):\n",
    "    cv2.ellipse(gc, (256, 256), (200, 40), 360/unit*i, 0, 360, (80, 127, 255), 2)\n",
    "\n",
    "cv2.imshow('draw', gc) \n",
    "# cv2.imwrite('./image/ellipse2-2.jpg', gc)\n",
    "\n",
    "cv2.waitKey(0)\n",
    "cv2.destroyAllWindows()\n",
    "cv2.waitKey(1)"
   ]
  },
  {
   "cell_type": "markdown",
   "metadata": {},
   "source": [
    "---\n",
    "## 練習 2-4 \n",
    "在一個 $400*600*3$ 的黑色畫布上, 利用畫圓的函數隨機產生 40 個 (圓心隨機, 填滿顏色隨機, 半徑隨機)\n",
    "><img src=\"..\\image\\circle2-2.jpg\"  style='width:50%'>"
   ]
  },
  {
   "cell_type": "code",
   "execution_count": 11,
   "metadata": {
    "tags": []
   },
   "outputs": [],
   "source": [
    "import cv2\n",
    "import numpy as np\n",
    "\n",
    "height = 400                            # 畫布高度\n",
    "width = 600                             # 畫布寬度\n",
    "img = np.zeros((height,width,3),np.uint8)   # 建立黑底畫布陣列\n",
    "for i in range(0,40):\n",
    "    cx = np.random.randint(0,width)     # 隨機數圓心的 x 軸座標\n",
    "    cy = np.random.randint(0,height)    # 隨機數圓心的 y 軸座標\n",
    "    color = np.random.randint(0,256, size=3).tolist() # 建立隨機色彩\n",
    "    r = np.random.randint(5,100)        # 在5 - 100間的隨機半徑\n",
    "    cv2.circle(img,(cx,cy),r,color,-1)  # 建立隨機實心圓\n",
    "cv2.imshow(\"Random Circle\",img)\n",
    "\n",
    "cv2.waitKey(0)                                      \n",
    "cv2.destroyAllWindows()                 # 刪除所有視窗"
   ]
  }
 ],
 "metadata": {
  "kernelspec": {
   "display_name": "Python 3 (ipykernel)",
   "language": "python",
   "name": "python3"
  },
  "language_info": {
   "codemirror_mode": {
    "name": "ipython",
    "version": 3
   },
   "file_extension": ".py",
   "mimetype": "text/x-python",
   "name": "python",
   "nbconvert_exporter": "python",
   "pygments_lexer": "ipython3",
   "version": "3.8.16"
  }
 },
 "nbformat": 4,
 "nbformat_minor": 4
}
